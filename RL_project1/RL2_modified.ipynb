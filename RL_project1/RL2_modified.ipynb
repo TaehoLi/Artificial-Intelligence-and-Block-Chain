{
  "nbformat": 4,
  "nbformat_minor": 0,
  "metadata": {
    "colab": {
      "name": "RL2.ipynb",
      "version": "0.3.2",
      "provenance": [],
      "collapsed_sections": []
    },
    "kernelspec": {
      "name": "python3",
      "display_name": "Python 3"
    }
  },
  "cells": [
    {
      "metadata": {
        "id": "rWu7cFm0EsEO",
        "colab_type": "code",
        "colab": {
          "base_uri": "https://localhost:8080/",
          "height": 1132
        },
        "outputId": "264401af-1ed4-4e67-ee12-509a47828eb2"
      },
      "cell_type": "code",
      "source": [
        "import numpy as np\n",
        "import random\n",
        "import matplotlib.pyplot as plt\n",
        "\n",
        "\n",
        "class adSelector():\n",
        "\n",
        "    def __init__(self, reward_matrix, values):\n",
        "        self.N = reward_matrix.shape[0]\n",
        "        self.T = reward_matrix.shape[1]\n",
        "        self.num_sims = reward_matrix.shape[2]\n",
        "        \n",
        "        return\n",
        "\n",
        "\n",
        "    # 아래 함수를 수정. 필요한 경우 input 인자 등을 추가.\n",
        "    def select_ad(self):\n",
        "        print(\"Select the ad Number: \")\n",
        "        adnum = np.random.randint(100, size=(1))\n",
        "        print(\"%d\" %adnum, \"enter\")\n",
        "        \n",
        "        return adnum\n",
        "\n",
        "\n",
        "\n",
        "def test_algorithm(algo, reward_matrix):\n",
        "\n",
        "    N = reward_matrix.shape[0]\n",
        "    T = reward_matrix.shape[1]\n",
        "    num_sims = reward_matrix.shape[2]\n",
        "    cumulative_rewards = np.zeros((num_sims,T))\n",
        "    sigma = 1 * np.random.randn(1) + 0\n",
        "    a = 0\n",
        "    \n",
        "    if sigma < 0:\n",
        "        sigma = -sigma\n",
        "    \n",
        "    for sim in range(num_sims):\n",
        "        print(\"\\n\", \"-----sim %d\" %a)\n",
        "        a += 1\n",
        "        \n",
        "        for t in range(T):\n",
        "            chosen_ad = algo.select_ad()\n",
        "            #print(chosen_ad)\n",
        "            reward = reward_matrix[chosen_ad,t,sim]\n",
        "            if reward < 0:\n",
        "                reward = -reward * sigma\n",
        "            else:\n",
        "                reward = reward * sigma\n",
        "            #print(reward)\n",
        "            if t == 0:\n",
        "                cumulative_rewards[sim,t] = reward\n",
        "            else:\n",
        "                cumulative_rewards[sim,t] = cumulative_rewards[sim,t-1] + reward\n",
        "            '''\n",
        "            if t is 0:\n",
        "                print(0.0)\n",
        "            else:\n",
        "                print(cumulative_rewards[sim][t-1])\n",
        "            '''\n",
        "                \n",
        "    #print(cumulative_rewards)\n",
        "    return cumulative_rewards\n",
        "\n",
        "\n",
        "# 훈련집합 (Training set) 생성. 이 부분은 테스트집합으로 변경하여 테스트할 것임.  \n",
        "N = 100\n",
        "T = 10\n",
        "num_sims = 2\n",
        "#reward_matrix = np.zeros((N,T,num_sims))\n",
        "reward_matrix = 1 * np.random.randn(N,T,num_sims) + 0\n",
        "#reward_matrix = np.random.randint(N, size=(N,T,num_sims))\n",
        "random.seed(0)\n",
        "\n",
        "for sim in range(num_sims):\n",
        "    shuffled_index = np.random.permutation(N)\n",
        "    reward_matrix[shuffled_index[0],:,sim] = [np.random.binomial(1, p=i/T) for i in range(T)]\n",
        "    reward_matrix[shuffled_index[1],:,sim] = [np.random.binomial(1, p=1-i/T) for i in range(T)]\n",
        "    reward_matrix[shuffled_index[2],:,sim] = [np.random.binomial(1, p=3/4) for i in range(T)]\n",
        "\n",
        "\n",
        "# 학습 알고리즘 테스트.\n",
        "algo = adSelector(reward_matrix,[])\n",
        "results = test_algorithm(algo, reward_matrix)\n",
        "\n",
        "print(results[:,T-1])\n",
        "#print(results)\n",
        "\n",
        "\n",
        "# 학습 결과를 그래프로 출력.\n",
        "for i in range(num_sims):\n",
        "    plt.plot(range(1,T+1), results[i,:], label=\"sim {}\".format(i))\n",
        "    \n",
        "plt.plot()\n",
        "plt.xlabel(\"Time index\")\n",
        "plt.ylabel(\"Cumulative rewards\")\n",
        "plt.title(\"Cumulative rewards vs Time\")\n",
        "plt.legend()\n",
        "plt.show()"
      ],
      "execution_count": 2,
      "outputs": [
        {
          "output_type": "stream",
          "text": [
            "\n",
            " -----sim 0\n",
            "Select the ad Number: \n",
            "60 enter\n",
            "Select the ad Number: \n",
            "15 enter\n",
            "Select the ad Number: \n",
            "34 enter\n",
            "Select the ad Number: \n",
            "83 enter\n",
            "Select the ad Number: \n",
            "64 enter\n",
            "Select the ad Number: \n",
            "0 enter\n",
            "Select the ad Number: \n",
            "14 enter\n",
            "Select the ad Number: \n",
            "18 enter\n",
            "Select the ad Number: \n",
            "70 enter\n",
            "Select the ad Number: \n",
            "60 enter\n",
            "\n",
            " -----sim 1\n",
            "Select the ad Number: \n",
            "86 enter\n",
            "Select the ad Number: \n",
            "9 enter\n",
            "Select the ad Number: \n",
            "73 enter\n",
            "Select the ad Number: \n",
            "85 enter\n",
            "Select the ad Number: \n",
            "31 enter\n",
            "Select the ad Number: \n",
            "92 enter\n",
            "Select the ad Number: \n",
            "35 enter\n",
            "Select the ad Number: \n",
            "80 enter\n",
            "Select the ad Number: \n",
            "8 enter\n",
            "Select the ad Number: \n",
            "88 enter\n",
            "[11.0145741   6.45591579]\n"
          ],
          "name": "stdout"
        },
        {
          "output_type": "display_data",
          "data": {
            "image/png": "[encoded data removed]",
            "text/plain": [
              "<Figure size 576x396 with 1 Axes>"
            ]
          },
          "metadata": {
            "tags": []
          }
        }
      ]
    },
    {
      "metadata": {
        "id": "nJIaNROzlzhB",
        "colab_type": "code",
        "colab": {
          "base_uri": "https://localhost:8080/",
          "height": 151
        },
        "outputId": "971016bc-ebaf-4f3f-d60d-b67f3a08711d"
      },
      "cell_type": "code",
      "source": [
        "np.random.rand(3,2,3)"
      ],
      "execution_count": 9,
      "outputs": [
        {
          "output_type": "execute_result",
          "data": {
            "text/plain": [
              "array([[[0.38850238, 0.62367363, 0.46654404],\n",
              "        [0.22186485, 0.90478104, 0.24030007]],\n",
              "\n",
              "       [[0.09058381, 0.9494604 , 0.73234359],\n",
              "        [0.68707027, 0.34722721, 0.52391873]],\n",
              "\n",
              "       [[0.61543598, 0.84526045, 0.62098762],\n",
              "        [0.49273943, 0.72505604, 0.94218309]]])"
            ]
          },
          "metadata": {
            "tags": []
          },
          "execution_count": 9
        }
      ]
    },
    {
      "metadata": {
        "id": "oEfxAszml8sx",
        "colab_type": "code",
        "colab": {
          "base_uri": "https://localhost:8080/",
          "height": 34
        },
        "outputId": "9c48e34f-665b-4393-e5b9-c57419af2488"
      },
      "cell_type": "code",
      "source": [
        "#np.random.randint(5, size=(3,2,3))\n",
        "np.random.randint(100, size=(1))"
      ],
      "execution_count": 36,
      "outputs": [
        {
          "output_type": "execute_result",
          "data": {
            "text/plain": [
              "array([62])"
            ]
          },
          "metadata": {
            "tags": []
          },
          "execution_count": 36
        }
      ]
    },
    {
      "metadata": {
        "id": "xIM6PKPomZIp",
        "colab_type": "code",
        "colab": {
          "base_uri": "https://localhost:8080/",
          "height": 34
        },
        "outputId": "eea9f284-5127-4679-8b5c-eb4bff8c2a54"
      },
      "cell_type": "code",
      "source": [
        "##  For random samples from N(\\mu, \\sigma^2), use:\n",
        "##  sigma * np.random.randn(...) + mu\n",
        "1 * np.random.randn(1) + 0"
      ],
      "execution_count": 45,
      "outputs": [
        {
          "output_type": "execute_result",
          "data": {
            "text/plain": [
              "array([0.55805156])"
            ]
          },
          "metadata": {
            "tags": []
          },
          "execution_count": 45
        }
      ]
    },
    {
      "metadata": {
        "id": "3E5rWWuXspjt",
        "colab_type": "code",
        "colab": {}
      },
      "cell_type": "code",
      "source": [
        ""
      ],
      "execution_count": 0,
      "outputs": []
    }
  ]
}