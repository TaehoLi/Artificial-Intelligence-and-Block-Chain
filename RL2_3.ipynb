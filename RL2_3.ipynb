{
 "cells": [
  {
   "cell_type": "code",
   "execution_count": 1,
   "metadata": {},
   "outputs": [
    {
     "name": "stdout",
     "output_type": "stream",
     "text": [
      "[1623. 1612.]\n"
     ]
    },
    {
     "data": {
      "image/png": "[encoded data removed]",
      "text/plain": [
       "<Figure size 432x288 with 1 Axes>"
      ]
     },
     "metadata": {
      "needs_background": "light"
     },
     "output_type": "display_data"
    }
   ],
   "source": [
    "# 아래 코드를 기반으로 자유롭게 수정.\n",
    "# reward_matrix 형태 수정 금지.\n",
    "# 강화학습 관련 패키지, 라이브러리, 함수 사용 금지 (예. OpenAI Gym)\n",
    "\n",
    "import numpy as np\n",
    "import random\n",
    "import matplotlib.pyplot as plt\n",
    "%matplotlib inline\n",
    "\n",
    "#state = 0\n",
    "class adSelector():\n",
    "    def __init__(self, reward_matrix, values):\n",
    "        self.N = reward_matrix.shape[0]\n",
    "        self.T = reward_matrix.shape[1]\n",
    "        self.num_sims = reward_matrix.shape[2]\n",
    "        return\n",
    "\n",
    "    # 아래 함수를 수정. 필요한 경우 input 인자 등을 추가.\n",
    "    def select_ad(self, Q, epsilon, state):\n",
    "        direction = np.arange(N)\n",
    "        # 행동을 결정\n",
    "        if np.random.rand() < epsilon: # 확률 e로 무작위 행동을 선택함\n",
    "            action = np.random.randint(3, size=(1))\n",
    "        else:\n",
    "            action = direction[np.argmax(Q[:,0])]\n",
    "            #print(action)\n",
    "        return action\n",
    "    \n",
    "    def get_s_next(self, state, action):\n",
    "        direction = np.arange(N)\n",
    "        next_direction = direction[action]  # 행동 a의 방향\n",
    "        s_next = next_direction\n",
    "        \n",
    "        return s_next\n",
    "\n",
    "\n",
    "def Q_learning(state, action, s_next, reward, Q, eta, gamma=1): # 이거 수정(action의 정보가 빠짐)\n",
    "    if reward is 1:\n",
    "        Q[state, 0] = Q[state, 0] + eta * (1 - Q[state, 0])\n",
    "    else:\n",
    "        Q[state, 0] = Q[state, 0] + eta * (0 + gamma + np.max(Q[s_next, 0]) - Q[state, 0])\n",
    "    return Q\n",
    "\n",
    "\n",
    "def test_algorithm(algo, reward_matrix, epsilon, eta):\n",
    "    N = reward_matrix.shape[0]\n",
    "    T = reward_matrix.shape[1]\n",
    "    num_sims = reward_matrix.shape[2]\n",
    "    cumulative_rewards = np.zeros((num_sims,T))\n",
    "    statelist = np.arange(N) # 초기상태 리스트\n",
    "    \n",
    "    for sim in range(num_sims):\n",
    "        Q_metric = np.random.rand(N,T,num_sims) * reward_matrix * 0.1\n",
    "        Q = Q_metric[:,0]\n",
    "        state = statelist[0] # 초기상태 지정\n",
    "        \n",
    "        for t in range(T):\n",
    "            chosen_ad = algo.select_ad(Q, epsilon, state) #액션            \n",
    "            reward = reward_matrix[chosen_ad,t,sim] #보상 스칼라\n",
    "            s_next = algo.get_s_next(state, chosen_ad) # 다음 상태 정보\n",
    "            #print(reward_matrix[:,1,0].shape)\n",
    "            #print(reward_matrix[:,1,0])\n",
    "            \n",
    "            Q = Q_learning(state, chosen_ad, s_next, reward, Q, eta) # 이 줄도 수정\n",
    "            #print(Q)\n",
    "            if t == 0:\n",
    "                cumulative_rewards[sim,t] = reward\n",
    "            else:\n",
    "                cumulative_rewards[sim,t] = cumulative_rewards[sim,t-1] + reward\n",
    "\n",
    "    return cumulative_rewards\n",
    "\n",
    "\n",
    "# 훈련집합 (Training set) 생성. 이 부분은 테스트집합으로 변경하여 테스트할 것임.  \n",
    "## 파라미터 수정\n",
    "N = 3\n",
    "T = 3000\n",
    "num_sims = 2\n",
    "epsilon = 0.3\n",
    "eta = 1e-03\n",
    "\n",
    "reward_matrix = np.zeros((N,T,num_sims)) # 초기 보상 텐서\n",
    "random.seed(0)\n",
    "for sim in range(num_sims):\n",
    "    shuffled_index = np.random.permutation(N)\n",
    "    reward_matrix[shuffled_index[0],:,sim] = [np.random.binomial(1, p=i/T) for i in range(T)]\n",
    "    reward_matrix[shuffled_index[1],:,sim] = [np.random.binomial(1, p=1-i/T) for i in range(T)]\n",
    "    reward_matrix[shuffled_index[2],:,sim] = [np.random.binomial(1, p=3/4) for i in range(T)]\n",
    "\n",
    "\n",
    "# 학습 알고리즘 테스트.\n",
    "algo = adSelector(reward_matrix,[])\n",
    "results = test_algorithm(algo, reward_matrix, epsilon, eta)\n",
    "print(results[:,T-1])\n",
    "\n",
    "\n",
    "# 학습 결과를 그래프로 출력.\n",
    "for i in range(num_sims):\n",
    "    plt.plot(range(1,T+1), results[i,:], label=\"sim {}\".format(i))\n",
    "\n",
    "plt.plot()\n",
    "plt.xlabel(\"Time index\")\n",
    "plt.ylabel(\"Cumulative rewards\")\n",
    "plt.title(\"Cumulative rewards vs Time\")\n",
    "plt.legend()\n",
    "plt.show()"
   ]
  },
  {
   "cell_type": "code",
   "execution_count": 2,
   "metadata": {},
   "outputs": [
    {
     "name": "stdout",
     "output_type": "stream",
     "text": [
      "[0 1 2]\n"
     ]
    }
   ],
   "source": [
    "direction = np.arange(3)\n",
    "print(direction)"
   ]
  },
  {
   "cell_type": "code",
   "execution_count": null,
   "metadata": {},
   "outputs": [],
   "source": []
  }
 ],
 "metadata": {
  "kernelspec": {
   "display_name": "Python 3",
   "language": "python",
   "name": "python3"
  },
  "language_info": {
   "codemirror_mode": {
    "name": "ipython",
    "version": 3
   },
   "file_extension": ".py",
   "mimetype": "text/x-python",
   "name": "python",
   "nbconvert_exporter": "python",
   "pygments_lexer": "ipython3",
   "version": "3.7.1"
  }
 },
 "nbformat": 4,
 "nbformat_minor": 2
}
