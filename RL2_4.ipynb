{
 "cells": [
  {
   "cell_type": "code",
   "execution_count": 1,
   "metadata": {},
   "outputs": [],
   "source": [
    "# 아래 코드를 기반으로 자유롭게 수정.\n",
    "# reward_matrix 형태 수정 금지.\n",
    "# 강화학습 관련 패키지, 라이브러리, 함수 사용 금지 (예. OpenAI Gym)\n",
    "\n",
    "import numpy as np\n",
    "import random\n",
    "import matplotlib.pyplot as plt\n",
    "%matplotlib inline"
   ]
  },
  {
   "cell_type": "code",
   "execution_count": 2,
   "metadata": {},
   "outputs": [],
   "source": [
    "#state = 0\n",
    "class adSelector():\n",
    "    def __init__(self, reward_matrix, values):\n",
    "        self.N = reward_matrix.shape[0]\n",
    "        self.T = reward_matrix.shape[1]\n",
    "        self.num_sims = reward_matrix.shape[2]\n",
    "        return\n",
    "\n",
    "    # 아래 함수를 수정. 필요한 경우 input 인자 등을 추가.\n",
    "    def select_ad(self, Q, epsilon, state):\n",
    "        direction = np.arange(N)\n",
    "        # 행동을 결정\n",
    "        if np.random.rand() < epsilon: # 확률 e로 무작위 행동을 선택함\n",
    "            action = np.random.randint(3, size=(1))\n",
    "        else:\n",
    "            action = direction[np.argmax(Q[:,0])]\n",
    "            #print(action)\n",
    "        return action\n",
    "    \n",
    "    def get_s_next(self, state, action):\n",
    "        direction = np.arange(N)\n",
    "        next_direction = direction[action]  # 행동 a의 방향\n",
    "        s_next = next_direction\n",
    "        \n",
    "        return s_next"
   ]
  },
  {
   "cell_type": "code",
   "execution_count": 3,
   "metadata": {},
   "outputs": [],
   "source": [
    "def Q_learning(state, action, s_next, reward, Q, eta, gamma=1): # 이거 수정(action의 정보가 빠짐)\n",
    "    if reward is 1:\n",
    "        Q[state, 0] = Q[state, 0] + eta * (1 - Q[state, 0])\n",
    "    else:\n",
    "        Q[state, 0] = Q[state, 0] + eta * (0 + gamma + np.max(Q[s_next, 0]) - Q[state, 0])\n",
    "    return Q"
   ]
  },
  {
   "cell_type": "code",
   "execution_count": 4,
   "metadata": {},
   "outputs": [],
   "source": [
    "# 정책을 결정하는 파라미터의 초깃값 theta_0를 설정\n",
    "# 줄은 상태, 열은 행동을 나타낸다\n",
    "theta_0 = np.array([[1, 1, 1],\n",
    "                    [1, 1, 1],\n",
    "                    [1, 1, 1]])"
   ]
  },
  {
   "cell_type": "code",
   "execution_count": 5,
   "metadata": {},
   "outputs": [
    {
     "name": "stdout",
     "output_type": "stream",
     "text": [
      "[[0.33333333 0.33333333 0.33333333]\n",
      " [0.33333333 0.33333333 0.33333333]\n",
      " [0.33333333 0.33333333 0.33333333]]\n"
     ]
    }
   ],
   "source": [
    "# 정책 파라미터 theta_0을 무작위 행동 정책 pi로 변환하는 함수\n",
    "def simple_convert_into_pi_from_theta(theta):\n",
    "    '''단순 비율 계산'''\n",
    "\n",
    "    [m, n] = theta.shape  # theta의 행렬 크기를 구함\n",
    "    pi = np.zeros((m, n))\n",
    "    for i in range(0, m):\n",
    "        pi[i, :] = theta[i, :] / np.nansum(theta[i, :])  # 비율 계산\n",
    "\n",
    "    pi = np.nan_to_num(pi)  # nan을 0으로 변환\n",
    "\n",
    "    return pi\n",
    "\n",
    "# 무작위 행동정책 pi_0을 계산\n",
    "pi_0 = simple_convert_into_pi_from_theta(theta_0)\n",
    "print(pi_0)"
   ]
  },
  {
   "cell_type": "code",
   "execution_count": 6,
   "metadata": {},
   "outputs": [
    {
     "name": "stdout",
     "output_type": "stream",
     "text": [
      "[[6.46787138e-02 2.87692166e-02 1.95124319e-02]\n",
      " [2.83927001e-02 6.70085176e-02 9.05668664e-03]\n",
      " [3.47048123e-05 5.14531251e-02 5.71845119e-02]]\n"
     ]
    }
   ],
   "source": [
    "# 행동가치 함수 Q의 초기 상태\n",
    "[a, b] = theta_0.shape  # # 열과 행의 갯수를 변수 a, b에 저장\n",
    "Q = np.random.rand(a, b) * theta_0 * 0.1 # * theta0 로 요소 단위 곱셈을 수행, Q에서 벽 방향으로 이동하는 행동에는 nan을 부여\n",
    "print(Q)"
   ]
  },
  {
   "cell_type": "code",
   "execution_count": 7,
   "metadata": {},
   "outputs": [],
   "source": [
    "def test_algorithm(algo, reward_matrix, epsilon, eta):\n",
    "    N = reward_matrix.shape[0]\n",
    "    T = reward_matrix.shape[1]\n",
    "    num_sims = reward_matrix.shape[2]\n",
    "    cumulative_rewards = np.zeros((num_sims,T))\n",
    "    statelist = np.arange(N) # 초기상태 리스트\n",
    "    \n",
    "    for sim in range(num_sims):\n",
    "        #Q_metric = np.random.rand(N,T,num_sims) * reward_matrix * 0.1\n",
    "        #print(Q_metric.shape)\n",
    "        #Q = Q_metric[:,0]\n",
    "        print(Q.shape)\n",
    "        state = statelist[0] # 초기상태 지정\n",
    "        \n",
    "        for t in range(T):\n",
    "            chosen_ad = algo.select_ad(Q, epsilon, state) #액션\n",
    "            reward = reward_matrix[chosen_ad,t,sim] #보상 스칼라\n",
    "            s_next = algo.get_s_next(state, chosen_ad) # 다음 상태 정보\n",
    "            #print(reward_matrix[:,1,0].shape)\n",
    "            #print(reward_matrix[:,1,0])\n",
    "            \n",
    "            Q = Q_learning(state, chosen_ad, s_next, reward, Q, eta) # 이 줄도 수정\n",
    "            #print(Q)\n",
    "            if t == 0:\n",
    "                cumulative_rewards[sim,t] = reward\n",
    "            else:\n",
    "                cumulative_rewards[sim,t] = cumulative_rewards[sim,t-1] + reward\n",
    "\n",
    "    return cumulative_rewards"
   ]
  },
  {
   "cell_type": "code",
   "execution_count": 8,
   "metadata": {},
   "outputs": [
    {
     "ename": "UnboundLocalError",
     "evalue": "local variable 'Q' referenced before assignment",
     "output_type": "error",
     "traceback": [
      "\u001b[0;31m---------------------------------------------------------------------------\u001b[0m",
      "\u001b[0;31mUnboundLocalError\u001b[0m                         Traceback (most recent call last)",
      "\u001b[0;32m<ipython-input-8-94a1193312e5>\u001b[0m in \u001b[0;36m<module>\u001b[0;34m\u001b[0m\n\u001b[1;32m     18\u001b[0m \u001b[0;31m# 학습 알고리즘 테스트.\u001b[0m\u001b[0;34m\u001b[0m\u001b[0;34m\u001b[0m\u001b[0;34m\u001b[0m\u001b[0m\n\u001b[1;32m     19\u001b[0m \u001b[0malgo\u001b[0m \u001b[0;34m=\u001b[0m \u001b[0madSelector\u001b[0m\u001b[0;34m(\u001b[0m\u001b[0mreward_matrix\u001b[0m\u001b[0;34m,\u001b[0m\u001b[0;34m[\u001b[0m\u001b[0;34m]\u001b[0m\u001b[0;34m)\u001b[0m\u001b[0;34m\u001b[0m\u001b[0;34m\u001b[0m\u001b[0m\n\u001b[0;32m---> 20\u001b[0;31m \u001b[0mresults\u001b[0m \u001b[0;34m=\u001b[0m \u001b[0mtest_algorithm\u001b[0m\u001b[0;34m(\u001b[0m\u001b[0malgo\u001b[0m\u001b[0;34m,\u001b[0m \u001b[0mreward_matrix\u001b[0m\u001b[0;34m,\u001b[0m \u001b[0mepsilon\u001b[0m\u001b[0;34m,\u001b[0m \u001b[0meta\u001b[0m\u001b[0;34m)\u001b[0m\u001b[0;34m\u001b[0m\u001b[0;34m\u001b[0m\u001b[0m\n\u001b[0m\u001b[1;32m     21\u001b[0m \u001b[0mprint\u001b[0m\u001b[0;34m(\u001b[0m\u001b[0mresults\u001b[0m\u001b[0;34m[\u001b[0m\u001b[0;34m:\u001b[0m\u001b[0;34m,\u001b[0m\u001b[0mT\u001b[0m\u001b[0;34m-\u001b[0m\u001b[0;36m1\u001b[0m\u001b[0;34m]\u001b[0m\u001b[0;34m)\u001b[0m\u001b[0;34m\u001b[0m\u001b[0;34m\u001b[0m\u001b[0m\n\u001b[1;32m     22\u001b[0m \u001b[0;34m\u001b[0m\u001b[0m\n",
      "\u001b[0;32m<ipython-input-7-7ea29f7d7020>\u001b[0m in \u001b[0;36mtest_algorithm\u001b[0;34m(algo, reward_matrix, epsilon, eta)\u001b[0m\n\u001b[1;32m     10\u001b[0m         \u001b[0;31m#print(Q_metric.shape)\u001b[0m\u001b[0;34m\u001b[0m\u001b[0;34m\u001b[0m\u001b[0;34m\u001b[0m\u001b[0m\n\u001b[1;32m     11\u001b[0m         \u001b[0;31m#Q = Q_metric[:,0]\u001b[0m\u001b[0;34m\u001b[0m\u001b[0;34m\u001b[0m\u001b[0;34m\u001b[0m\u001b[0m\n\u001b[0;32m---> 12\u001b[0;31m         \u001b[0mprint\u001b[0m\u001b[0;34m(\u001b[0m\u001b[0mQ\u001b[0m\u001b[0;34m.\u001b[0m\u001b[0mshape\u001b[0m\u001b[0;34m)\u001b[0m\u001b[0;34m\u001b[0m\u001b[0;34m\u001b[0m\u001b[0m\n\u001b[0m\u001b[1;32m     13\u001b[0m         \u001b[0mstate\u001b[0m \u001b[0;34m=\u001b[0m \u001b[0mstatelist\u001b[0m\u001b[0;34m[\u001b[0m\u001b[0;36m0\u001b[0m\u001b[0;34m]\u001b[0m \u001b[0;31m# 초기상태 지정\u001b[0m\u001b[0;34m\u001b[0m\u001b[0;34m\u001b[0m\u001b[0m\n\u001b[1;32m     14\u001b[0m \u001b[0;34m\u001b[0m\u001b[0m\n",
      "\u001b[0;31mUnboundLocalError\u001b[0m: local variable 'Q' referenced before assignment"
     ]
    }
   ],
   "source": [
    "# 훈련집합 (Training set) 생성. 이 부분은 테스트집합으로 변경하여 테스트할 것임.  \n",
    "## 파라미터 수정\n",
    "N = 3\n",
    "T = 3000\n",
    "num_sims = 2\n",
    "epsilon = 0.3\n",
    "eta = 1e-03\n",
    "\n",
    "reward_matrix = np.zeros((N,T,num_sims)) # 초기 보상 텐서\n",
    "random.seed(0)\n",
    "for sim in range(num_sims):\n",
    "    shuffled_index = np.random.permutation(N)\n",
    "    reward_matrix[shuffled_index[0],:,sim] = [np.random.binomial(1, p=i/T) for i in range(T)]\n",
    "    reward_matrix[shuffled_index[1],:,sim] = [np.random.binomial(1, p=1-i/T) for i in range(T)]\n",
    "    reward_matrix[shuffled_index[2],:,sim] = [np.random.binomial(1, p=3/4) for i in range(T)]\n",
    "\n",
    "\n",
    "# 학습 알고리즘 테스트.\n",
    "algo = adSelector(reward_matrix,[])\n",
    "results = test_algorithm(algo, reward_matrix, epsilon, eta)\n",
    "print(results[:,T-1])\n",
    "\n",
    "\n",
    "# 학습 결과를 그래프로 출력.\n",
    "for i in range(num_sims):\n",
    "    plt.plot(range(1,T+1), results[i,:], label=\"sim {}\".format(i))\n",
    "\n",
    "plt.plot()\n",
    "plt.xlabel(\"Time index\")\n",
    "plt.ylabel(\"Cumulative rewards\")\n",
    "plt.title(\"Cumulative rewards vs Time\")\n",
    "plt.legend()\n",
    "plt.show()"
   ]
  },
  {
   "cell_type": "code",
   "execution_count": 6,
   "metadata": {},
   "outputs": [
    {
     "name": "stdout",
     "output_type": "stream",
     "text": [
      "[1684. 1919.]\n"
     ]
    },
    {
     "data": {
      "image/png": "[encoded data removed]",
      "text/plain": [
       "<Figure size 432x288 with 1 Axes>"
      ]
     },
     "metadata": {
      "needs_background": "light"
     },
     "output_type": "display_data"
    }
   ],
   "source": [
    "# 훈련집합 (Training set) 생성. 이 부분은 테스트집합으로 변경하여 테스트할 것임.  \n",
    "## 파라미터 수정\n",
    "N = 3\n",
    "T = 3000\n",
    "num_sims = 2\n",
    "epsilon = 0.7\n",
    "eta = 1e-03\n",
    "\n",
    "reward_matrix = np.zeros((N,T,num_sims)) # 초기 보상 텐서\n",
    "random.seed(0)\n",
    "for sim in range(num_sims):\n",
    "    shuffled_index = np.random.permutation(N)\n",
    "    reward_matrix[shuffled_index[0],:,sim] = [np.random.binomial(1, p=i/T) for i in range(T)]\n",
    "    reward_matrix[shuffled_index[1],:,sim] = [np.random.binomial(1, p=1-i/T) for i in range(T)]\n",
    "    reward_matrix[shuffled_index[2],:,sim] = [np.random.binomial(1, p=3/4) for i in range(T)]\n",
    "\n",
    "\n",
    "# 학습 알고리즘 테스트.\n",
    "algo = adSelector(reward_matrix,[])\n",
    "results = test_algorithm(algo, reward_matrix, epsilon, eta)\n",
    "print(results[:,T-1])\n",
    "\n",
    "\n",
    "# 학습 결과를 그래프로 출력.\n",
    "for i in range(num_sims):\n",
    "    plt.plot(range(1,T+1), results[i,:], label=\"sim {}\".format(i))\n",
    "\n",
    "plt.plot()\n",
    "plt.xlabel(\"Time index\")\n",
    "plt.ylabel(\"Cumulative rewards\")\n",
    "plt.title(\"Cumulative rewards vs Time\")\n",
    "plt.legend()\n",
    "plt.show()"
   ]
  },
  {
   "cell_type": "code",
   "execution_count": 13,
   "metadata": {},
   "outputs": [
    {
     "name": "stdout",
     "output_type": "stream",
     "text": [
      "[1771. 1747.]\n"
     ]
    },
    {
     "data": {
      "image/png": "[encoded data removed]",
      "text/plain": [
       "<Figure size 432x288 with 1 Axes>"
      ]
     },
     "metadata": {
      "needs_background": "light"
     },
     "output_type": "display_data"
    }
   ],
   "source": [
    "import numpy as np\n",
    "import random\n",
    "import matplotlib.pyplot as plt\n",
    "\n",
    "class adSelector():\n",
    "    def __init__(self, reward_matrix, values):\n",
    "        self.N = reward_matrix.shape[0]\n",
    "        self.T = reward_matrix.shape[1]\n",
    "        self.num_sims = reward_matrix.shape[2]\n",
    "        return\n",
    "    # 아래 함수를 수정. 필요한 경우 input 인자 등을 추가.\n",
    "    def select_ad(self):\n",
    "        return random.randrange(N)\n",
    "\n",
    "def test_algorithm(algo, reward_matrix):\n",
    "    N = reward_matrix.shape[0]\n",
    "    T = reward_matrix.shape[1]\n",
    "    num_sims = reward_matrix.shape[2]\n",
    "    cumulative_rewards = np.zeros((num_sims,T))\n",
    "    for sim in range(num_sims):\n",
    "        for t in range(T):\n",
    "            chosen_ad = algo.select_ad()\n",
    "            reward = reward_matrix[chosen_ad,t,sim]\n",
    "            if t == 0:\n",
    "                cumulative_rewards[sim,t] = reward\n",
    "            else:\n",
    "                cumulative_rewards[sim,t] = cumulative_rewards[sim,t-1] + reward\n",
    "    #print(cumulative_rewards)\n",
    "    return cumulative_rewards\n",
    "\n",
    "# 훈련집합 (Training set) 생성. 이 부분은 테스트집합으로 변경하여 테스트할 것임.  \n",
    "N = 3\n",
    "T = 3000\n",
    "num_sims = 2\n",
    "reward_matrix = np.zeros((N,T,num_sims))\n",
    "random.seed(0)\n",
    "for sim in range(num_sims):\n",
    "    shuffled_index = np.random.permutation(N)\n",
    "    reward_matrix[shuffled_index[0],:,sim] = [np.random.binomial(1, p=i/T) for i in range(T)]\n",
    "    reward_matrix[shuffled_index[1],:,sim] = [np.random.binomial(1, p=1-i/T) for i in range(T)]\n",
    "    reward_matrix[shuffled_index[2],:,sim] = [np.random.binomial(1, p=3/4) for i in range(T)]\n",
    "# 학습 알고리즘 테스트.\n",
    "algo = adSelector(reward_matrix,[])\n",
    "results = test_algorithm(algo, reward_matrix)\n",
    "print(results[:,T-1])\n",
    "#print(results)\n",
    "# 학습 결과를 그래프로 출력.\n",
    "for i in range(num_sims):\n",
    "    plt.plot(range(1,T+1), results[i,:], label=\"sim {}\".format(i))\n",
    "plt.plot()\n",
    "plt.xlabel(\"Time index\")\n",
    "plt.ylabel(\"Cumulative rewards\")\n",
    "plt.title(\"Cumulative rewards vs Time\")\n",
    "plt.legend()\n",
    "plt.show()"
   ]
  },
  {
   "cell_type": "code",
   "execution_count": null,
   "metadata": {},
   "outputs": [],
   "source": []
  }
 ],
 "metadata": {
  "kernelspec": {
   "display_name": "Python 3",
   "language": "python",
   "name": "python3"
  },
  "language_info": {
   "codemirror_mode": {
    "name": "ipython",
    "version": 3
   },
   "file_extension": ".py",
   "mimetype": "text/x-python",
   "name": "python",
   "nbconvert_exporter": "python",
   "pygments_lexer": "ipython3",
   "version": "3.6.8"
  }
 },
 "nbformat": 4,
 "nbformat_minor": 2
}
