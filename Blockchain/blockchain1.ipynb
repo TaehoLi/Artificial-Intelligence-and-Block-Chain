{
 "cells": [
  {
   "cell_type": "markdown",
   "metadata": {},
   "source": [
    "## Symmetric Key Encryption_AES (CBC applied)"
   ]
  },
  {
   "cell_type": "code",
   "execution_count": 1,
   "metadata": {},
   "outputs": [
    {
     "name": "stdout",
     "output_type": "stream",
     "text": [
      "\n",
      " plain text :  AES 알고리즘을 이용하여 암호화를 합니다.\n",
      "\n",
      " secret key :  b'C\\x97;\\xece\\xb9\\xb3\\xc6\\x1d!\\x08\\x97\\x97\\r\\x02\\xffi\\xcf\"rh[\\x1d\\xfa\\xa3\\xb9e\\x04\\xbfT:\\x84'\n",
      "\n",
      " cipher text :  b'\\xf0\\xfa\\xce|\\xbfD\\x8b\\xb6w\\xb5\\xe1\\x02;ML\\x91\\x08B\\xc4\\x8a\\xed\\x01?\\x06I\\xd04\\\\b\\x96XJ\\xe4L\\xe5G\\xb4\\xb5E\\xf3\\x9f\\x13=\\x9c\\x19\\xab\\xe8a\\xf5S\\x8bR +\\xf0\\xd2x=\\xdf\\x11\\xc1a\\x02U'\n",
      "\n",
      " after decryption :  b'AES \\xec\\x95\\x8c\\xea\\xb3\\xa0\\xeb\\xa6\\xac\\xec\\xa6\\x98\\xec\\x9d\\x84 \\xec\\x9d\\xb4\\xec\\x9a\\xa9\\xed\\x95\\x98\\xec\\x97\\xac \\xec\\x95\\x94\\xed\\x98\\xb8\\xed\\x99\\x94\\xeb\\xa5\\xbc \\xed\\x95\\xa9\\xeb\\x8b\\x88\\xeb\\x8b\\xa4.\\x00\\x00\\x00\\x00\\x00\\x00\\x00\\x00'\n",
      "\n",
      " 해독문 :  AES 알고리즘을 이용하여 암호화를 합니다.\u0000\u0000\u0000\u0000\u0000\u0000\u0000\u0000\n"
     ]
    }
   ],
   "source": [
    "#1\n",
    "from Crypto.Cipher import AES\n",
    "from Crypto import Random\n",
    "import numpy as np\n",
    "import hashlib as h\n",
    "\n",
    "#원문\n",
    "plainText = 'AES 알고리즘을 이용하여 암호화를 합니다.'\n",
    "print(\"\\n plain text : \", plainText)\n",
    "\n",
    "#256 bit의 key 생성\n",
    "key = Random.get_random_bytes(32)\n",
    "print(\"\\n secret key : \", key)\n",
    "\n",
    "#AES 블록크기 배수에 맞게 패딩\n",
    "n = len(plainText)\n",
    "if (n % 16) != 0:\n",
    "    n = n+16-(n%16)\n",
    "    plainText = plainText.ljust(n,'\\0')\n",
    "\n",
    "#CBC모드에서 사용할 초기 벡터 생성\n",
    "iv = Random.new().read(AES.block_size)\n",
    "\n",
    "#암호화하기\n",
    "aes = AES.new(key, AES.MODE_CBC, iv)\n",
    "cipherText = aes. encrypt(plainText.encode())\n",
    "print( \"\\n cipher text : \", cipherText)\n",
    "\n",
    "#복호화하기\n",
    "aes = AES.new(key, AES.MODE_CBC, iv)\n",
    "checkplaintext = aes.decrypt(cipherText)\n",
    "print(\"\\n after decryption : \", checkplaintext)\n",
    "\n",
    "#디코딩하여 원문 확인\n",
    "checkplaintext = checkplaintext.decode()\n",
    "print(\"\\n 해독문 : \", checkplaintext)"
   ]
  },
  {
   "cell_type": "code",
   "execution_count": null,
   "metadata": {},
   "outputs": [],
   "source": []
  },
  {
   "cell_type": "code",
   "execution_count": 2,
   "metadata": {},
   "outputs": [
    {
     "name": "stdin",
     "output_type": "stream",
     "text": [
      "Message :  asdqwezaxc\n"
     ]
    },
    {
     "name": "stdout",
     "output_type": "stream",
     "text": [
      "      SHA256 :  778b4d038ec4c4663a7e989eb2dcbba719685fecb0030e8032d9d5f8b781ce14\n",
      "      길이 :  256\n",
      "\n",
      "Double-SHA256 :  3a52e4ff0a09cc996a875b31ad4a3ba55287fd396b3fb0984b004c54f5f48fc1\n",
      "     길이 :  256\n"
     ]
    }
   ],
   "source": [
    "#2\n",
    "from Crypto.Hash import MD5, RIPEMD, SHA, SHA256\n",
    "\n",
    "msg = input(\"Message : \")\n",
    "msg = msg.encode()\n",
    "\n",
    "h = SHA256.new() # SHA256\n",
    "h.update(msg)\n",
    "hashv = h.hexdigest()\n",
    "\n",
    "print(\"      SHA256 : \", hashv)\n",
    "print(\"      길이 : \", len(hashv)*4)\n",
    "\n",
    "h1 = SHA256.new()\n",
    "h1.update(msg)\n",
    "h2 = SHA256.new()\n",
    "h2.update((h1.hexdigest()).encode())\n",
    "hashv = h2.hexdigest()\n",
    "\n",
    "print(\"\\nDouble-SHA256 : \", hashv)\n",
    "print(\"     길이 : \", len(hashv)*4)"
   ]
  },
  {
   "cell_type": "code",
   "execution_count": null,
   "metadata": {},
   "outputs": [],
   "source": []
  }
 ],
 "metadata": {
  "kernelspec": {
   "display_name": "Python 3",
   "language": "python",
   "name": "python3"
  },
  "language_info": {
   "codemirror_mode": {
    "name": "ipython",
    "version": 3
   },
   "file_extension": ".py",
   "mimetype": "text/x-python",
   "name": "python",
   "nbconvert_exporter": "python",
   "pygments_lexer": "ipython3",
   "version": "3.7.3"
  }
 },
 "nbformat": 4,
 "nbformat_minor": 2
}
