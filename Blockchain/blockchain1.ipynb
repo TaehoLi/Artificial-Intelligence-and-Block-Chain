{
 "cells": [
  {
   "cell_type": "markdown",
   "metadata": {},
   "source": [
    "## Symmetric Key Encryption_AES (CBC applied)"
   ]
  },
  {
   "cell_type": "code",
   "execution_count": 1,
   "metadata": {},
   "outputs": [
    {
     "name": "stdout",
     "output_type": "stream",
     "text": [
      "\n",
      " plain text :  AES 알고리즘을 이용하여 암호화를 합니다.\n",
      "\n",
      " secret key :  b'\\xc2\\x95\\xf4>Y8\\xb9<\\xa1yx\\x8b\\x03N\\x0b\\xc6\\x91sD\\xc9\\xadY\\xd3|\\xbc`\\xfc`\\xc1\\xc0\\x9fC'\n",
      "\n",
      " cipher text :  b'\\xe2Z\\x81\\x92#\\xb3\\xb4[\\xa0\\xc3\\x8af\\xff\\xc1\\xe6g\\x11\\xe4(g9\\xb1\\xd7\\x08\\x84\\xb1\\xdb\\x13\"\\xe5%\\x19\\x92|\\x85\\xc2\\'7 <s\\x1a\\xe4\\xb6]\\x1c>\\xd6Min+-\\xe3\\xb1:\\x89\\x04\\x14\\x16\\x84\\xe5\\xc33'\n",
      "\n",
      " after decryption :  b'AES \\xec\\x95\\x8c\\xea\\xb3\\xa0\\xeb\\xa6\\xac\\xec\\xa6\\x98\\xec\\x9d\\x84 \\xec\\x9d\\xb4\\xec\\x9a\\xa9\\xed\\x95\\x98\\xec\\x97\\xac \\xec\\x95\\x94\\xed\\x98\\xb8\\xed\\x99\\x94\\xeb\\xa5\\xbc \\xed\\x95\\xa9\\xeb\\x8b\\x88\\xeb\\x8b\\xa4.\\x00\\x00\\x00\\x00\\x00\\x00\\x00\\x00'\n",
      "\n",
      " 해독문 :  AES 알고리즘을 이용하여 암호화를 합니다.\u0000\u0000\u0000\u0000\u0000\u0000\u0000\u0000\n"
     ]
    }
   ],
   "source": [
    "#1\n",
    "from Crypto.Cipher import AES\n",
    "from Crypto import Random\n",
    "import numpy as np\n",
    "import hashlib as h\n",
    "\n",
    "#원문\n",
    "plainText = 'AES 알고리즘을 이용하여 암호화를 합니다.'\n",
    "print(\"\\n plain text : \", plainText)\n",
    "\n",
    "#256 bit의 key 생성\n",
    "key = Random.get_random_bytes(32)\n",
    "print(\"\\n secret key : \", key)\n",
    "\n",
    "#AES 블록크기 배수에 맞게 패딩\n",
    "n = len(plainText)\n",
    "if (n % 16) != 0:\n",
    "    n = n+16-(n%16)\n",
    "    plainText = plainText.ljust(n,'\\0')\n",
    "\n",
    "#CBC모드에서 사용할 초기 벡터 생성\n",
    "iv = Random.new().read(AES.block_size)\n",
    "\n",
    "#암호화하기\n",
    "aes = AES.new(key, AES.MODE_CBC, iv)\n",
    "cipherText = aes. encrypt(plainText.encode())\n",
    "print( \"\\n cipher text : \", cipherText)\n",
    "\n",
    "#복호화하기\n",
    "aes = AES.new(key, AES.MODE_CBC, iv)\n",
    "checkplaintext = aes.decrypt(cipherText)\n",
    "print(\"\\n after decryption : \", checkplaintext)\n",
    "\n",
    "#디코딩하여 원문 확인\n",
    "checkplaintext = checkplaintext.decode()\n",
    "print(\"\\n 해독문 : \", checkplaintext)"
   ]
  },
  {
   "cell_type": "code",
   "execution_count": null,
   "metadata": {},
   "outputs": [],
   "source": []
  },
  {
   "cell_type": "code",
   "execution_count": 2,
   "metadata": {},
   "outputs": [
    {
     "name": "stdin",
     "output_type": "stream",
     "text": [
      "Message :  가나다라마바\n"
     ]
    },
    {
     "name": "stdout",
     "output_type": "stream",
     "text": [
      "      SHA256 :  bbe32bb490481bcecd6bd2d9afc9a9c4297e9934ec634cdc50c070c1ac10eebc\n",
      "      길이 :  256\n",
      "\n",
      "Double-SHA256 :  8ae393cc33e54bf26877d47ac1cbf5cfdcd1eef2a0d4737027a95cbe55a49e54\n",
      "     길이 :  256\n"
     ]
    }
   ],
   "source": [
    "#2\n",
    "from Crypto.Hash import MD5, RIPEMD, SHA, SHA256\n",
    "\n",
    "msg = input(\"Message : \")\n",
    "msg = msg.encode()\n",
    "\n",
    "h = SHA256.new() # SHA256\n",
    "h.update(msg)\n",
    "hashv = h.hexdigest()\n",
    "\n",
    "print(\"      SHA256 : \", hashv)\n",
    "print(\"      길이 : \", len(hashv)*4)\n",
    "\n",
    "h1 = SHA256.new()\n",
    "h1.update(msg)\n",
    "h2 = SHA256.new()\n",
    "h2.update((h1.hexdigest()).encode())\n",
    "hashv = h2.hexdigest()\n",
    "\n",
    "print(\"\\nDouble-SHA256 : \", hashv)\n",
    "print(\"     길이 : \", len(hashv)*4)"
   ]
  },
  {
   "cell_type": "code",
   "execution_count": null,
   "metadata": {},
   "outputs": [],
   "source": []
  }
 ],
 "metadata": {
  "kernelspec": {
   "display_name": "Python 3",
   "language": "python",
   "name": "python3"
  },
  "language_info": {
   "codemirror_mode": {
    "name": "ipython",
    "version": 3
   },
   "file_extension": ".py",
   "mimetype": "text/x-python",
   "name": "python",
   "nbconvert_exporter": "python",
   "pygments_lexer": "ipython3",
   "version": "3.7.3"
  }
 },
 "nbformat": 4,
 "nbformat_minor": 2
}
