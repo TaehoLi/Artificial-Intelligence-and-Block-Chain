{
 "cells": [
  {
   "cell_type": "markdown",
   "metadata": {},
   "source": [
    "## Symmetric Key Encryption_AES (CBC applied)"
   ]
  },
  {
   "cell_type": "code",
   "execution_count": 1,
   "metadata": {},
   "outputs": [
    {
     "name": "stdout",
     "output_type": "stream",
     "text": [
      "\n",
      " plain text :  AES 알고리즘을 이용하여 암호화를 합니다.\n",
      "\n",
      " secret key :  b'\\xec\\x8b\\xc7\\xca\\xd4\\xbc\\xb6i\\x06[e\\xf2\\x1fV\\xb5\\\\\\xe0G\\xec\\xb1\\x92\\x80\\x93\\x92\\xe5\\xe4N\\xd4\\x93J\\xd2\\x99'\n",
      "\n",
      " cipher text :  b'Opy{\\xc2\\xd8_Rae\\xb9,\\xf0\\xe5z\\x12\\x12?J;\\xd7u\\xba\\xf1?s\\xc0:\\xee\\xf6\\xa3\\xfek\\xe2\\xd7o\\x84\\x9e<Z\\xf5\\x96B\\xae\\xc9Y \\x1a\\x8c\\x1do\\xdb\\xb3\\xa9\\x86\\xb6\\xc36g\\xcc\\xac\\xd1SY'\n",
      "\n",
      " after decryption :  b'AES \\xec\\x95\\x8c\\xea\\xb3\\xa0\\xeb\\xa6\\xac\\xec\\xa6\\x98\\xec\\x9d\\x84 \\xec\\x9d\\xb4\\xec\\x9a\\xa9\\xed\\x95\\x98\\xec\\x97\\xac \\xec\\x95\\x94\\xed\\x98\\xb8\\xed\\x99\\x94\\xeb\\xa5\\xbc \\xed\\x95\\xa9\\xeb\\x8b\\x88\\xeb\\x8b\\xa4.\\x00\\x00\\x00\\x00\\x00\\x00\\x00\\x00'\n",
      "\n",
      " 해독문 :  AES 알고리즘을 이용하여 암호화를 합니다.\u0000\u0000\u0000\u0000\u0000\u0000\u0000\u0000\n"
     ]
    }
   ],
   "source": [
    "#1\n",
    "from Crypto.Cipher import AES\n",
    "from Crypto import Random\n",
    "import numpy as np\n",
    "import hashlib as h\n",
    "\n",
    "#원문\n",
    "plainText = 'AES 알고리즘을 이용하여 암호화를 합니다.'\n",
    "print(\"\\n plain text : \", plainText)\n",
    "\n",
    "#256 bit의 key 생성\n",
    "key = Random.get_random_bytes(32)\n",
    "print(\"\\n secret key : \", key)\n",
    "\n",
    "#AES 블록크기 배수에 맞게 패딩\n",
    "n = len(plainText)\n",
    "if (n % 16) != 0:\n",
    "    n = n+16-(n%16)\n",
    "    plainText = plainText.ljust(n,'\\0')\n",
    "\n",
    "#CBC모드에서 사용할 초기 벡터 생성\n",
    "iv = Random.new().read(AES.block_size)\n",
    "\n",
    "#암호화하기\n",
    "aes = AES.new(key, AES.MODE_CBC, iv)\n",
    "cipherText = aes. encrypt(plainText.encode())\n",
    "print( \"\\n cipher text : \", cipherText)\n",
    "\n",
    "#복호화하기\n",
    "aes = AES.new(key, AES.MODE_CBC, iv)\n",
    "checkplaintext = aes.decrypt(cipherText)\n",
    "print(\"\\n after decryption : \", checkplaintext)\n",
    "\n",
    "#디코딩하여 원문 확인\n",
    "checkplaintext = checkplaintext.decode()\n",
    "print(\"\\n 해독문 : \", checkplaintext)"
   ]
  },
  {
   "cell_type": "markdown",
   "metadata": {},
   "source": [
    "## SHA256 hash algorithm"
   ]
  },
  {
   "cell_type": "code",
   "execution_count": 2,
   "metadata": {},
   "outputs": [
    {
     "name": "stdin",
     "output_type": "stream",
     "text": [
      "Message :  skyman\n"
     ]
    },
    {
     "name": "stdout",
     "output_type": "stream",
     "text": [
      "      SHA256 :  eb44f580a494395cf4689594e2eb28fae9b01d5369450c0ce8491fb36ddb98ef\n",
      "      길이 :  256\n",
      "\n",
      "Double-SHA256 :  05825bf87e21c09e9c52806953b08ad12f7e16ead8e4c267d25e0ef5c2cd3036\n",
      "     길이 :  256\n"
     ]
    }
   ],
   "source": [
    "#2\n",
    "from Crypto.Hash import MD5, RIPEMD, SHA, SHA256\n",
    "\n",
    "msg = input(\"Message : \")\n",
    "msg = msg.encode()\n",
    "\n",
    "h = SHA256.new() # SHA256\n",
    "h.update(msg)\n",
    "hashv = h.hexdigest()\n",
    "\n",
    "print(\"      SHA256 : \", hashv)\n",
    "print(\"      길이 : \", len(hashv)*4)\n",
    "\n",
    "h1 = SHA256.new()\n",
    "h1.update(msg)\n",
    "h2 = SHA256.new()\n",
    "h2.update((h1.hexdigest()).encode())\n",
    "hashv = h2.hexdigest()\n",
    "\n",
    "print(\"\\nDouble-SHA256 : \", hashv)\n",
    "print(\"     길이 : \", len(hashv)*4)"
   ]
  },
  {
   "cell_type": "code",
   "execution_count": null,
   "metadata": {},
   "outputs": [],
   "source": []
  }
 ],
 "metadata": {
  "kernelspec": {
   "display_name": "Python 3",
   "language": "python",
   "name": "python3"
  },
  "language_info": {
   "codemirror_mode": {
    "name": "ipython",
    "version": 3
   },
   "file_extension": ".py",
   "mimetype": "text/x-python",
   "name": "python",
   "nbconvert_exporter": "python",
   "pygments_lexer": "ipython3",
   "version": "3.7.3"
  }
 },
 "nbformat": 4,
 "nbformat_minor": 2
}
