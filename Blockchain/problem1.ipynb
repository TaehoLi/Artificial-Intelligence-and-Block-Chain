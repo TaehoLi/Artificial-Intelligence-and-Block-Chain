{
 "cells": [
  {
   "cell_type": "markdown",
   "metadata": {},
   "source": [
    "#### 같은 원문에 대하여 MD5, RIPEMD, SHA, SHA256 알고리즘을 각각 실행하여 사용한 해쉬 알고리즘에 따른 해쉬 값의 길이와 값 비교해 보기"
   ]
  },
  {
   "cell_type": "code",
   "execution_count": 1,
   "metadata": {},
   "outputs": [
    {
     "name": "stdin",
     "output_type": "stream",
     "text": [
      "Message :  이 문서의 Hash value를 계산한다\n"
     ]
    },
    {
     "name": "stdout",
     "output_type": "stream",
     "text": [
      "\n",
      "\n",
      "      MD5 (128 bit) : 072a3e2a659d68c26eb4934bb46414bb\n",
      "      RIPEMD (160 bit) : 5bd9c366e4fb4a92066be15bfd0fe8f5e2982ae9\n",
      "      SHA (160 bit) : f70d7c107614e8bee22af3156299e56d8e65c6d1\n",
      "      SHA256 (256 bit) : 651b612ad8f36da9c9947dce103d7bdb2d5c355e86a05615ac5d2f3bd9b9ccb2\n"
     ]
    }
   ],
   "source": [
    "from Crypto.Hash import MD5, RIPEMD, SHA, SHA256\n",
    "\n",
    "msg = input(\"Message : \")\n",
    "msg = msg.encode()\n",
    "\n",
    "a = MD5.new() # MD5\n",
    "b = RIPEMD.new() # RIPEMD\n",
    "c = SHA.new() # SHA\n",
    "d = SHA256.new() # SHA256\n",
    "\n",
    "a.update(msg)\n",
    "b.update(msg)\n",
    "c.update(msg)\n",
    "d.update(msg)\n",
    "\n",
    "hashv1 = a.hexdigest()\n",
    "hashv2 = b.hexdigest()\n",
    "hashv3 = c.hexdigest()\n",
    "hashv4 = d.hexdigest()\n",
    "\n",
    "print(\"\\n\")\n",
    "print(\"      MD5 (%d bit) :\" %(len(hashv1)*4), hashv1)\n",
    "print(\"      RIPEMD (%d bit) :\" %(len(hashv2)*4), hashv2)\n",
    "print(\"      SHA (%d bit) :\" %(len(hashv3)*4), hashv3)\n",
    "print(\"      SHA256 (%d bit) :\" %(len(hashv4)*4), hashv4)"
   ]
  },
  {
   "cell_type": "code",
   "execution_count": null,
   "metadata": {},
   "outputs": [],
   "source": []
  }
 ],
 "metadata": {
  "kernelspec": {
   "display_name": "Python 3",
   "language": "python",
   "name": "python3"
  },
  "language_info": {
   "codemirror_mode": {
    "name": "ipython",
    "version": 3
   },
   "file_extension": ".py",
   "mimetype": "text/x-python",
   "name": "python",
   "nbconvert_exporter": "python",
   "pygments_lexer": "ipython3",
   "version": "3.7.3"
  }
 },
 "nbformat": 4,
 "nbformat_minor": 2
}
