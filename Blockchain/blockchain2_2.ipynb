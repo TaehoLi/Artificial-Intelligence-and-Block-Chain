{
 "cells": [
  {
   "cell_type": "markdown",
   "metadata": {},
   "source": [
    "### 지갑주소 생성"
   ]
  },
  {
   "cell_type": "code",
   "execution_count": 2,
   "metadata": {},
   "outputs": [
    {
     "name": "stdout",
     "output_type": "stream",
     "text": [
      "\n",
      "개인키 :  5a71369d7ce22cb95aeacd987fd32396f8ae0136fb17c52227dc6110d332abda\n",
      "\n",
      "공개키 :  04981c13c53bc0415407ab9ffc9c0a607807fd5d33e99f5696229c12eb32bb9f372ae983158a25ae4e553a66af6aa9049f7fceae78011ff6f89ef7cec1aedc3907\n",
      "\n",
      "지갑주소 (mainnet 용) :  1DyHmpn8oJCrXjWb5DNTUmYd57fXRKZ5iL\n",
      "\n",
      "지갑주소 (Testnet 용) :  mtVF4ss7cKe7JqzCnnLqJgkww7GEPZ7Njr\n"
     ]
    }
   ],
   "source": [
    "import bitcoin.main as btc\n",
    "# 개인키를 생성한다\n",
    "while (1):\n",
    "    privKey = btc.random_key()\n",
    "    dPrivKey = btc.decode_privkey(privKey, 'hex')\n",
    "    if dPrivKey < btc.N:\n",
    "        break\n",
    "# 개인키로 공개키를 생성\n",
    "pubKey = btc.privkey_to_pubkey(privKey)\n",
    "\n",
    "# 공개키로 지갑 주소를 생성(mainnet 용)\n",
    "addressmain = btc.pubkey_to_address(pubKey, 0)\n",
    "\n",
    "# 공개키로 지갑 주소를 생성(testnet 용)\n",
    "addresstest = btc.pubkey_to_address(pubKey, 0x6f)\n",
    "\n",
    "# 결과 확인\n",
    "print(\"\\n개인키 : \", privKey)\n",
    "print(\"\\n공개키 : \", pubKey)\n",
    "print(\"\\n지갑주소 (mainnet 용) : \", addressmain)\n",
    "print(\"\\n지갑주소 (Testnet 용) : \", addresstest)"
   ]
  },
  {
   "cell_type": "markdown",
   "metadata": {},
   "source": [
    "### Transaction"
   ]
  },
  {
   "cell_type": "code",
   "execution_count": 1,
   "metadata": {},
   "outputs": [],
   "source": [
    "from bitcoin.bci import history\n",
    "from bitcoin.transaction import mktx, sign, deserialize\n",
    "from urllib.request import urlopen\n",
    "from urllib.parse import urlencode\n",
    "url = \"https://testnet.blockchain.info/\"\n",
    "A = 0   # 첫번째 Address\n",
    "B = 1   # 두번째 Address\n",
    "address = ['mzjRhagRbxKZ9nLiEa8Fjbptj78Do4A2am',\n",
    "           'mtVF4ss7cKe7JqzCnnLqJgkww7GEPZ7Njr']\n",
    "privKey = ['4c7d6bcb5fbc452a2cdeedd95b9bd31b5dca6f8974b2850a3ac6d6efa132622f',\n",
    "           '5a71369d7ce22cb95aeacd987fd32396f8ae0136fb17c52227dc6110d332abda']"
   ]
  },
  {
   "cell_type": "code",
   "execution_count": 4,
   "metadata": {},
   "outputs": [
    {
     "data": {
      "text/plain": [
       "[{'address': 'mzjRhagRbxKZ9nLiEa8Fjbptj78Do4A2am',\n",
       "  'value': 300000,\n",
       "  'output': '1a9b86d6f72cc956bb0082689ced3fbc38e8b0db472cb73a3dbbe6d62ea36a8c:0',\n",
       "  'block_height': None},\n",
       " {'address': 'mzjRhagRbxKZ9nLiEa8Fjbptj78Do4A2am',\n",
       "  'value': 5372307,\n",
       "  'output': 'e1fca838a24faaaa45f52b4857a764a9388ff3676c63b8d5c3dcdc2741a2aa97:0',\n",
       "  'block_height': None}]"
      ]
     },
     "execution_count": 4,
     "metadata": {},
     "output_type": "execute_result"
    }
   ],
   "source": [
    "def getUtxo(n=A):\n",
    "    if n == A or n == B:\n",
    "        h = history(address[n])\n",
    "        return list(filter(lambda txo: 'spend' not in txo, h))\n",
    "    else:\n",
    "        print(\"address error.\")\n",
    "        \n",
    "getUtxo(A)\n",
    "#getUtxo(B)"
   ]
  },
  {
   "cell_type": "code",
   "execution_count": 5,
   "metadata": {},
   "outputs": [
    {
     "data": {
      "text/plain": [
       "'01000000018c6aa32ed6e6bb3d3ab72c47dbb0e838bc3fed9c688200bb56c92cf7d6869b1a000000008b4830450221008c14f001f492d93d96e2bc5aec58d794a2418b083d3e02c697da46bdf353ec1b02201c141010837fd7c426b4278ea383d6fd848c711fcbbf10d90a96ba7fc9a025c5014104f40525d54ce74ae109114375b41063f3acd5b16216b661e2b3980c2bdb5fbfa4f45d283460b6295eff16320e1d5d721f7df68b1eebf0fc2f30c73c77ccf99bbaffffffff02a0860100000000001976a9148e46cdf4984bd7a055a34c4bb66ad6907583dab388ac30e60200000000001976a914d2c6422e03b9073206a0215d41c99c6a438b135b88ac00000000'"
      ]
     },
     "execution_count": 5,
     "metadata": {},
     "output_type": "execute_result"
    }
   ],
   "source": [
    "def createTx(utxo, n1, n2, value, fee):\n",
    "    # Input을 생성\n",
    "    totalValue = 0\n",
    "    inputs = []\n",
    "    for i in range(len(utxo)):\n",
    "        totalValue += utxo[i]['value'] * 1e-8\n",
    "        inputs.append(utxo[i])\n",
    "        if totalValue > (value + fee):\n",
    "            break\n",
    "            \n",
    "    # 수수료를 차감한 거스름돈을 계산\n",
    "    outChange = totalValue - value - fee\n",
    "    if outChange < 0:\n",
    "        raise ValueError(\"Value is larger than input amount\")\n",
    "    if outChange > 0:\n",
    "        chgSatoshi = int(outChange * 1e8)\n",
    "        change = [{'value': chgSatoshi, 'address': address[n1]}]\n",
    "        \n",
    "    else:\n",
    "        change = []\n",
    "\n",
    "    # Output을 생성\n",
    "    outputs = [{'value': int(value * 1e8), 'address': address[n2]}]\n",
    "    \n",
    "    # transaction을 만듦\n",
    "    tx = mktx(inputs,outputs+change)\n",
    "    return tx, len(inputs)\n",
    "\n",
    "def signTx(tx, nInput, n1):\n",
    "    for i in range(nInput):\n",
    "        tx = sign(tx, i, privKey[n1])\n",
    "        return tx\n",
    "\n",
    "utxo = getUtxo(A)\n",
    "tx,ninput = createTx(utxo, A, B, 0.001, 0.0001)\n",
    "tx = signTx(tx, ninput, A)\n",
    "tx"
   ]
  },
  {
   "cell_type": "code",
   "execution_count": 9,
   "metadata": {},
   "outputs": [
    {
     "name": "stdout",
     "output_type": "stream",
     "text": [
      "Transaction Submitted\n",
      "\n"
     ]
    },
    {
     "data": {
      "text/plain": [
       "'01000000018c6aa32ed6e6bb3d3ab72c47dbb0e838bc3fed9c688200bb56c92cf7d6869b1a000000008b4830450221008c14f001f492d93d96e2bc5aec58d794a2418b083d3e02c697da46bdf353ec1b02201c141010837fd7c426b4278ea383d6fd848c711fcbbf10d90a96ba7fc9a025c5014104f40525d54ce74ae109114375b41063f3acd5b16216b661e2b3980c2bdb5fbfa4f45d283460b6295eff16320e1d5d721f7df68b1eebf0fc2f30c73c77ccf99bbaffffffff02a0860100000000001976a9148e46cdf4984bd7a055a34c4bb66ad6907583dab388ac30e60200000000001976a914d2c6422e03b9073206a0215d41c99c6a438b135b88ac00000000'"
      ]
     },
     "execution_count": 9,
     "metadata": {},
     "output_type": "execute_result"
    }
   ],
   "source": [
    "def sendTx(tx):\n",
    "    params = {'tx': tx}\n",
    "    payload = urlencode(params).encode('utf-8')\n",
    "    response = urlopen(url + 'pushtx', payload).read()\n",
    "    print(response.decode('utf-8'))\n",
    "\n",
    "def transaction(From, To, value, fee):\n",
    "    utxo = getUtxo(From)\n",
    "    tx, nInput = createTx(utxo, From, To, value, fee)\n",
    "    tx = signTx(tx, nInput, From)\n",
    "    sendTx(tx)\n",
    "    return tx\n",
    "\n",
    "transaction(A, B, 0.001, 0.0001)"
   ]
  },
  {
   "cell_type": "code",
   "execution_count": 11,
   "metadata": {},
   "outputs": [
    {
     "data": {
      "text/plain": [
       "[{'address': 'mzjRhagRbxKZ9nLiEa8Fjbptj78Do4A2am',\n",
       "  'value': 190000,\n",
       "  'output': 'f245b96ec4098f57075cb44b0bae3eba40ad02990067e67ae92c53bb46a4ceb8:1',\n",
       "  'block_height': None},\n",
       " {'address': 'mzjRhagRbxKZ9nLiEa8Fjbptj78Do4A2am',\n",
       "  'value': 5372307,\n",
       "  'output': 'e1fca838a24faaaa45f52b4857a764a9388ff3676c63b8d5c3dcdc2741a2aa97:0',\n",
       "  'block_height': None}]"
      ]
     },
     "execution_count": 11,
     "metadata": {},
     "output_type": "execute_result"
    }
   ],
   "source": [
    "getUtxo(A)"
   ]
  },
  {
   "cell_type": "code",
   "execution_count": 12,
   "metadata": {},
   "outputs": [
    {
     "data": {
      "text/plain": [
       "[{'address': 'mtVF4ss7cKe7JqzCnnLqJgkww7GEPZ7Njr',\n",
       "  'value': 100000,\n",
       "  'output': 'f245b96ec4098f57075cb44b0bae3eba40ad02990067e67ae92c53bb46a4ceb8:0',\n",
       "  'block_height': None}]"
      ]
     },
     "execution_count": 12,
     "metadata": {},
     "output_type": "execute_result"
    }
   ],
   "source": [
    "getUtxo(B)"
   ]
  },
  {
   "cell_type": "code",
   "execution_count": null,
   "metadata": {},
   "outputs": [],
   "source": []
  }
 ],
 "metadata": {
  "kernelspec": {
   "display_name": "Python 3",
   "language": "python",
   "name": "python3"
  },
  "language_info": {
   "codemirror_mode": {
    "name": "ipython",
    "version": 3
   },
   "file_extension": ".py",
   "mimetype": "text/x-python",
   "name": "python",
   "nbconvert_exporter": "python",
   "pygments_lexer": "ipython3",
   "version": "3.7.3"
  }
 },
 "nbformat": 4,
 "nbformat_minor": 2
}
